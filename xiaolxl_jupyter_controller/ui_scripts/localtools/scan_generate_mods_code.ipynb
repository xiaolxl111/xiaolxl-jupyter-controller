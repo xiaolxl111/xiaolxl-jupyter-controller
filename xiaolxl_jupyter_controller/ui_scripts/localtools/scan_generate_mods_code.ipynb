{
 "cells": [
  {
   "cell_type": "code",
   "execution_count": 2,
   "id": "0b9dbde5-c38b-4559-9b4d-10e8cd9d634c",
   "metadata": {},
   "outputs": [
    {
     "name": "stdout",
     "output_type": "stream",
     "text": [
      "manager.add_mod_childs(\"插件所需依赖/模型\", \"AnimateDifV3的SparseControlNet模型\", [\n",
      "    {\n",
      "        \"downloadType\": \"cg\",\n",
      "        \"url\": \"xiaolxl/AnimateDiff-A1111-ControlNetMod/mm_sd15_v3_sparsectrl_rgb.safetensors\",\n",
      "        \"parentPath\": \"controlnet_dir\",\n",
      "        \"sonPath\": \"/\",\n",
      "        \"fileName\": \"mm_sd15_v3_sparsectrl_rgb.safetensors\"\n",
      "    },\n",
      "    {\n",
      "        \"downloadType\": \"cg\",\n",
      "        \"url\": \"xiaolxl/AnimateDiff-A1111-ControlNetMod/mm_sd15_v3_sparsectrl_scribble.safetensors\",\n",
      "        \"parentPath\": \"controlnet_dir\",\n",
      "        \"sonPath\": \"/\",\n",
      "        \"fileName\": \"mm_sd15_v3_sparsectrl_scribble.safetensors\"\n",
      "    },\n",
      "])\n"
     ]
    }
   ],
   "source": [
    "import os\n",
    "\n",
    "def generate_code(parent_directory, model_category, model_name, author_name, cloud_directory, parent_directory_name, relative_directory):\n",
    "    # Template for the generated code\n",
    "    template = \"\"\"manager.add_mod_childs(\"{model_category}\", \"{model_name}\", [\\n{files}\\n])\"\"\"\n",
    "    file_template = \"\"\"    {{\n",
    "        \"downloadType\": \"cg\",\n",
    "        \"url\": \"{author_name}/{cloud_directory}/{file_name}\",\n",
    "        \"parentPath\": \"{parent_directory_name}\",\n",
    "        \"sonPath\": \"{son_path}\",\n",
    "        \"fileName\": \"{file_name}\"\n",
    "    }},\"\"\"\n",
    "\n",
    "    files_list = []\n",
    "\n",
    "    # Walk through the parent directory\n",
    "    for root, dirs, files in os.walk(parent_directory):\n",
    "        for file in files:\n",
    "            # Calculate the sonPath as relative path from relative_directory\n",
    "            son_path = os.path.relpath(os.path.join(root, file), relative_directory)\n",
    "            # Ensure it starts with '/'\n",
    "            if not son_path.startswith('/'):\n",
    "                son_path = '/' + son_path\n",
    "\n",
    "            # Generate the formatted string for each file\n",
    "            files_list.append(file_template.format(\n",
    "                author_name=author_name,\n",
    "                cloud_directory=cloud_directory,\n",
    "                file_name=file,\n",
    "                parent_directory_name=parent_directory_name,\n",
    "                son_path=os.path.dirname(son_path)  # Only the directory part\n",
    "            ))\n",
    "    \n",
    "    # Join all file strings and insert into the main template\n",
    "    files_str = \"\\n\".join(files_list)\n",
    "    code = template.format(model_category=model_category, model_name=model_name, files=files_str)\n",
    "\n",
    "    return code\n",
    "\n",
    "# Example usage\n",
    "parent_directory = \"/root/autodl-tmp/ancontrol\"\n",
    "model_category = \"插件所需依赖/模型\"\n",
    "model_name = \"AnimateDifV3的SparseControlNet模型\"\n",
    "author_name = \"xiaolxl\"\n",
    "cloud_directory = \"AnimateDiff-A1111-ControlNetMod\"\n",
    "parent_directory_name = \"controlnet_dir\"\n",
    "relative_directory = \"/root/autodl-tmp/ancontrol\"\n",
    "\n",
    "# Generate the code\n",
    "generated_code = generate_code(parent_directory, model_category, model_name, author_name, cloud_directory, parent_directory_name, relative_directory)\n",
    "print(generated_code)\n"
   ]
  },
  {
   "cell_type": "code",
   "execution_count": null,
   "id": "272b3ea1-dec4-4ab9-bbeb-f067ecf79cea",
   "metadata": {},
   "outputs": [],
   "source": []
  }
 ],
 "metadata": {
  "kernelspec": {
   "display_name": "Python 3 (ipykernel)",
   "language": "python",
   "name": "python3"
  },
  "language_info": {
   "codemirror_mode": {
    "name": "ipython",
    "version": 3
   },
   "file_extension": ".py",
   "mimetype": "text/x-python",
   "name": "python",
   "nbconvert_exporter": "python",
   "pygments_lexer": "ipython3",
   "version": "3.8.10"
  }
 },
 "nbformat": 4,
 "nbformat_minor": 5
}
