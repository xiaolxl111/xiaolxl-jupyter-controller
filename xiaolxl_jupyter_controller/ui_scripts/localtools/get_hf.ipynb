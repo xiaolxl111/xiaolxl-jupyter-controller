{
 "cells": [
  {
   "cell_type": "markdown",
   "id": "49daa57f-3156-4170-a11c-e78d1b1516b3",
   "metadata": {},
   "source": [
    "批量下载抱脸模型"
   ]
  },
  {
   "cell_type": "code",
   "execution_count": null,
   "id": "14541a80-802e-4686-8134-d3c73a44c30b",
   "metadata": {},
   "outputs": [],
   "source": [
    "!pip install requests beautifulsoup4"
   ]
  },
  {
   "cell_type": "code",
   "execution_count": 1,
   "id": "cc7ae6bd-9fba-4092-bfb9-ba22976d8904",
   "metadata": {},
   "outputs": [],
   "source": [
    "import os\n",
    "os.environ['http_proxy'] = 'http://127.0.0.1:7890'\n",
    "os.environ['https_proxy'] = 'http://127.0.0.1:7890'"
   ]
  },
  {
   "cell_type": "code",
   "execution_count": 3,
   "id": "0d199d09-d217-4c86-aca4-ad94c0a534ce",
   "metadata": {},
   "outputs": [
    {
     "name": "stdout",
     "output_type": "stream",
     "text": [
      "\n",
      "01/08 22:46:49 [\u001b[1;32mNOTICE\u001b[0m] Downloading 1 item(s)\n",
      "\n",
      "01/08 22:46:50 [\u001b[1;32mNOTICE\u001b[0m] CUID#7 - Redirecting to https://cdn-lfs-us-1.huggingface.co/repos/eb/36/eb3682f47ef4d8ca29a706b4dac4d42561a0670a17f803febf9feb06ed6286ea/2d07d75bd0395fd419477395305b34d4cd23b5d3e7ad5896d73b7fdfe49594d2?response-content-disposition=attachment%3B+filename*%3DUTF-8%27%27mm_sd15_v3_sparsectrl_rgb.safetensors%3B+filename%3D%22mm_sd15_v3_sparsectrl_rgb.safetensors%22%3B&Expires=1704984410&Policy=eyJTdGF0ZW1lbnQiOlt7IkNvbmRpdGlvbiI6eyJEYXRlTGVzc1RoYW4iOnsiQVdTOkVwb2NoVGltZSI6MTcwNDk4NDQxMH19LCJSZXNvdXJjZSI6Imh0dHBzOi8vY2RuLWxmcy11cy0xLmh1Z2dpbmdmYWNlLmNvL3JlcG9zL2ViLzM2L2ViMzY4MmY0N2VmNGQ4Y2EyOWE3MDZiNGRhYzRkNDI1NjFhMDY3MGExN2Y4MDNmZWJmOWZlYjA2ZWQ2Mjg2ZWEvMmQwN2Q3NWJkMDM5NWZkNDE5NDc3Mzk1MzA1YjM0ZDRjZDIzYjVkM2U3YWQ1ODk2ZDczYjdmZGZlNDk1OTRkMj9yZXNwb25zZS1jb250ZW50LWRpc3Bvc2l0aW9uPSoifV19&Signature=OLuQ4x-EeOAtpkp4RkC1Dm0m2PVFws%7EoryK0ArJP3jjGNmz11FJJulyxlrbYmWX8qbvxs-RN9wAqTFkDnOq4-ZnMXxdy7BZHOQlorJTZZrqup0eys94updVeiG2ExaVboIk7twHrSWJjs7ykRYIMkHymwgSEARMt-AMLrqQhuZ2V4JygJXdDStHL-ChXpLLUZdKPGzJs613PF-etybK%7Eb-bG5XAS0WRGxkLFzefnpvvinvpQqQu0bbTx8%7EGtwKNbCqb591hcau2Oa1aK4Z5tONKTVUBSUquNfZTrCKMTBHupcoOjsrF4a8uA6JXTGtMl%7EBUuLCo647Z5hikjU3FpMg__&Key-Pair-Id=KCD77M1F0VK2B\n",
      "\u001b[35m[\u001b[0m#19ed1d 0B/0B CN:1 DL:\u001b[32m0B\u001b[0m\u001b[35m]\u001b[0m\u001b[0m                      \n",
      "01/08 22:46:52 [\u001b[1;32mNOTICE\u001b[0m] CUID#9 - Redirecting to https://cdn-lfs-us-1.huggingface.co/repos/eb/36/eb3682f47ef4d8ca29a706b4dac4d42561a0670a17f803febf9feb06ed6286ea/2d07d75bd0395fd419477395305b34d4cd23b5d3e7ad5896d73b7fdfe49594d2?response-content-disposition=attachment%3B+filename*%3DUTF-8%27%27mm_sd15_v3_sparsectrl_rgb.safetensors%3B+filename%3D%22mm_sd15_v3_sparsectrl_rgb.safetensors%22%3B&Expires=1704984412&Policy=eyJTdGF0ZW1lbnQiOlt7IkNvbmRpdGlvbiI6eyJEYXRlTGVzc1RoYW4iOnsiQVdTOkVwb2NoVGltZSI6MTcwNDk4NDQxMn19LCJSZXNvdXJjZSI6Imh0dHBzOi8vY2RuLWxmcy11cy0xLmh1Z2dpbmdmYWNlLmNvL3JlcG9zL2ViLzM2L2ViMzY4MmY0N2VmNGQ4Y2EyOWE3MDZiNGRhYzRkNDI1NjFhMDY3MGExN2Y4MDNmZWJmOWZlYjA2ZWQ2Mjg2ZWEvMmQwN2Q3NWJkMDM5NWZkNDE5NDc3Mzk1MzA1YjM0ZDRjZDIzYjVkM2U3YWQ1ODk2ZDczYjdmZGZlNDk1OTRkMj9yZXNwb25zZS1jb250ZW50LWRpc3Bvc2l0aW9uPSoifV19&Signature=aFNE9qO57m0MkFx1DGsRZpvKHYhqF9TsZh0yF23DajgecifdSpIuviGxd3f8WfEVwk2vm4lOmAgsvqDos4XwjXzgRp4BRNYvIl7GvaAHTIq1ZYyvWI1iTLq4vT6Lhj5P5Utpedw9hBSw-Pu9gY2JbnXf%7EZdmtZTCJbN7-2%7EqQMUnU84t1vFmgfdy1k9hf%7E2zbhItBWKZ4YcG6hqUubdjDtuxqXo%7E0M%7EZ%7EkTvBGOr4MOv3XN3WSV7JXn8Pin0sOWXxnKvW2aJmZsCCRA1eap94its22vvHMsDj7gPPRbC1qLqnn0hWfj%7EkNkMN3eVkNdIVRWxoEoe2buHBsBa7vIiRQ__&Key-Pair-Id=KCD77M1F0VK2B\n",
      "\u001b[35m[\u001b[0m#19ed1d 144KiB/0.9GiB\u001b[36m(0%)\u001b[0m CN:8 DL:\u001b[32m366KiB\u001b[0m ETA:\u001b[33m44m11s\u001b[0m\u001b[35m]\u001b[0m\u001b[0m\n",
      "01/08 22:46:52 [\u001b[1;32mNOTICE\u001b[0m] CUID#12 - Redirecting to https://cdn-lfs-us-1.huggingface.co/repos/eb/36/eb3682f47ef4d8ca29a706b4dac4d42561a0670a17f803febf9feb06ed6286ea/2d07d75bd0395fd419477395305b34d4cd23b5d3e7ad5896d73b7fdfe49594d2?response-content-disposition=attachment%3B+filename*%3DUTF-8%27%27mm_sd15_v3_sparsectrl_rgb.safetensors%3B+filename%3D%22mm_sd15_v3_sparsectrl_rgb.safetensors%22%3B&Expires=1704980714&Policy=eyJTdGF0ZW1lbnQiOlt7IkNvbmRpdGlvbiI6eyJEYXRlTGVzc1RoYW4iOnsiQVdTOkVwb2NoVGltZSI6MTcwNDk4MDcxNH19LCJSZXNvdXJjZSI6Imh0dHBzOi8vY2RuLWxmcy11cy0xLmh1Z2dpbmdmYWNlLmNvL3JlcG9zL2ViLzM2L2ViMzY4MmY0N2VmNGQ4Y2EyOWE3MDZiNGRhYzRkNDI1NjFhMDY3MGExN2Y4MDNmZWJmOWZlYjA2ZWQ2Mjg2ZWEvMmQwN2Q3NWJkMDM5NWZkNDE5NDc3Mzk1MzA1YjM0ZDRjZDIzYjVkM2U3YWQ1ODk2ZDczYjdmZGZlNDk1OTRkMj9yZXNwb25zZS1jb250ZW50LWRpc3Bvc2l0aW9uPSoifV19&Signature=RSXC0vv3WdKVvcY%7E7-PjQycLpPHHxf6vQgmbgxRVzMNDtIynR5rznySPF5IWnKTqR%7EFH1fymsSwRrEdAsoovdxdDdlFLCQYLIOmmE3zxaM15RP65-gGlYnxncTj%7EQd901hvJyIJjAjLw6gsClJ%7E0QJqvgzp%7Egd4cY8Z6nVrwUPWYYEvC7AncDp9sc9RF4s18tmSYXSKaLr6-g2URm3-cs5Q8eWvZkknS%7EpdDIMeW8yxGETswRDm094jwG5-DBI3h-ebpN5IvNZQm2vajVknZQCj0pDDdhfOw3DRvVyBBSTiqXfkatSu2g1SZm3gyJw9u6b17pz1WTnBArDDTzszwtA__&Key-Pair-Id=KCD77M1F0VK2B\n",
      "\n",
      "01/08 22:46:53 [\u001b[1;32mNOTICE\u001b[0m] CUID#10 - Redirecting to https://cdn-lfs-us-1.huggingface.co/repos/eb/36/eb3682f47ef4d8ca29a706b4dac4d42561a0670a17f803febf9feb06ed6286ea/2d07d75bd0395fd419477395305b34d4cd23b5d3e7ad5896d73b7fdfe49594d2?response-content-disposition=attachment%3B+filename*%3DUTF-8%27%27mm_sd15_v3_sparsectrl_rgb.safetensors%3B+filename%3D%22mm_sd15_v3_sparsectrl_rgb.safetensors%22%3B&Expires=1704984412&Policy=eyJTdGF0ZW1lbnQiOlt7IkNvbmRpdGlvbiI6eyJEYXRlTGVzc1RoYW4iOnsiQVdTOkVwb2NoVGltZSI6MTcwNDk4NDQxMn19LCJSZXNvdXJjZSI6Imh0dHBzOi8vY2RuLWxmcy11cy0xLmh1Z2dpbmdmYWNlLmNvL3JlcG9zL2ViLzM2L2ViMzY4MmY0N2VmNGQ4Y2EyOWE3MDZiNGRhYzRkNDI1NjFhMDY3MGExN2Y4MDNmZWJmOWZlYjA2ZWQ2Mjg2ZWEvMmQwN2Q3NWJkMDM5NWZkNDE5NDc3Mzk1MzA1YjM0ZDRjZDIzYjVkM2U3YWQ1ODk2ZDczYjdmZGZlNDk1OTRkMj9yZXNwb25zZS1jb250ZW50LWRpc3Bvc2l0aW9uPSoifV19&Signature=aFNE9qO57m0MkFx1DGsRZpvKHYhqF9TsZh0yF23DajgecifdSpIuviGxd3f8WfEVwk2vm4lOmAgsvqDos4XwjXzgRp4BRNYvIl7GvaAHTIq1ZYyvWI1iTLq4vT6Lhj5P5Utpedw9hBSw-Pu9gY2JbnXf%7EZdmtZTCJbN7-2%7EqQMUnU84t1vFmgfdy1k9hf%7E2zbhItBWKZ4YcG6hqUubdjDtuxqXo%7E0M%7EZ%7EkTvBGOr4MOv3XN3WSV7JXn8Pin0sOWXxnKvW2aJmZsCCRA1eap94its22vvHMsDj7gPPRbC1qLqnn0hWfj%7EkNkMN3eVkNdIVRWxoEoe2buHBsBa7vIiRQ__&Key-Pair-Id=KCD77M1F0VK2B\n",
      "\n",
      "01/08 22:46:53 [\u001b[1;32mNOTICE\u001b[0m] CUID#14 - Redirecting to https://cdn-lfs-us-1.huggingface.co/repos/eb/36/eb3682f47ef4d8ca29a706b4dac4d42561a0670a17f803febf9feb06ed6286ea/2d07d75bd0395fd419477395305b34d4cd23b5d3e7ad5896d73b7fdfe49594d2?response-content-disposition=attachment%3B+filename*%3DUTF-8%27%27mm_sd15_v3_sparsectrl_rgb.safetensors%3B+filename%3D%22mm_sd15_v3_sparsectrl_rgb.safetensors%22%3B&Expires=1704984412&Policy=eyJTdGF0ZW1lbnQiOlt7IkNvbmRpdGlvbiI6eyJEYXRlTGVzc1RoYW4iOnsiQVdTOkVwb2NoVGltZSI6MTcwNDk4NDQxMn19LCJSZXNvdXJjZSI6Imh0dHBzOi8vY2RuLWxmcy11cy0xLmh1Z2dpbmdmYWNlLmNvL3JlcG9zL2ViLzM2L2ViMzY4MmY0N2VmNGQ4Y2EyOWE3MDZiNGRhYzRkNDI1NjFhMDY3MGExN2Y4MDNmZWJmOWZlYjA2ZWQ2Mjg2ZWEvMmQwN2Q3NWJkMDM5NWZkNDE5NDc3Mzk1MzA1YjM0ZDRjZDIzYjVkM2U3YWQ1ODk2ZDczYjdmZGZlNDk1OTRkMj9yZXNwb25zZS1jb250ZW50LWRpc3Bvc2l0aW9uPSoifV19&Signature=aFNE9qO57m0MkFx1DGsRZpvKHYhqF9TsZh0yF23DajgecifdSpIuviGxd3f8WfEVwk2vm4lOmAgsvqDos4XwjXzgRp4BRNYvIl7GvaAHTIq1ZYyvWI1iTLq4vT6Lhj5P5Utpedw9hBSw-Pu9gY2JbnXf%7EZdmtZTCJbN7-2%7EqQMUnU84t1vFmgfdy1k9hf%7E2zbhItBWKZ4YcG6hqUubdjDtuxqXo%7E0M%7EZ%7EkTvBGOr4MOv3XN3WSV7JXn8Pin0sOWXxnKvW2aJmZsCCRA1eap94its22vvHMsDj7gPPRbC1qLqnn0hWfj%7EkNkMN3eVkNdIVRWxoEoe2buHBsBa7vIiRQ__&Key-Pair-Id=KCD77M1F0VK2B\n",
      "\n",
      "01/08 22:46:53 [\u001b[1;32mNOTICE\u001b[0m] CUID#13 - Redirecting to https://cdn-lfs-us-1.huggingface.co/repos/eb/36/eb3682f47ef4d8ca29a706b4dac4d42561a0670a17f803febf9feb06ed6286ea/2d07d75bd0395fd419477395305b34d4cd23b5d3e7ad5896d73b7fdfe49594d2?response-content-disposition=attachment%3B+filename*%3DUTF-8%27%27mm_sd15_v3_sparsectrl_rgb.safetensors%3B+filename%3D%22mm_sd15_v3_sparsectrl_rgb.safetensors%22%3B&Expires=1704984412&Policy=eyJTdGF0ZW1lbnQiOlt7IkNvbmRpdGlvbiI6eyJEYXRlTGVzc1RoYW4iOnsiQVdTOkVwb2NoVGltZSI6MTcwNDk4NDQxMn19LCJSZXNvdXJjZSI6Imh0dHBzOi8vY2RuLWxmcy11cy0xLmh1Z2dpbmdmYWNlLmNvL3JlcG9zL2ViLzM2L2ViMzY4MmY0N2VmNGQ4Y2EyOWE3MDZiNGRhYzRkNDI1NjFhMDY3MGExN2Y4MDNmZWJmOWZlYjA2ZWQ2Mjg2ZWEvMmQwN2Q3NWJkMDM5NWZkNDE5NDc3Mzk1MzA1YjM0ZDRjZDIzYjVkM2U3YWQ1ODk2ZDczYjdmZGZlNDk1OTRkMj9yZXNwb25zZS1jb250ZW50LWRpc3Bvc2l0aW9uPSoifV19&Signature=aFNE9qO57m0MkFx1DGsRZpvKHYhqF9TsZh0yF23DajgecifdSpIuviGxd3f8WfEVwk2vm4lOmAgsvqDos4XwjXzgRp4BRNYvIl7GvaAHTIq1ZYyvWI1iTLq4vT6Lhj5P5Utpedw9hBSw-Pu9gY2JbnXf%7EZdmtZTCJbN7-2%7EqQMUnU84t1vFmgfdy1k9hf%7E2zbhItBWKZ4YcG6hqUubdjDtuxqXo%7E0M%7EZ%7EkTvBGOr4MOv3XN3WSV7JXn8Pin0sOWXxnKvW2aJmZsCCRA1eap94its22vvHMsDj7gPPRbC1qLqnn0hWfj%7EkNkMN3eVkNdIVRWxoEoe2buHBsBa7vIiRQ__&Key-Pair-Id=KCD77M1F0VK2B\n",
      "\n",
      "01/08 22:46:53 [\u001b[1;32mNOTICE\u001b[0m] CUID#11 - Redirecting to https://cdn-lfs-us-1.huggingface.co/repos/eb/36/eb3682f47ef4d8ca29a706b4dac4d42561a0670a17f803febf9feb06ed6286ea/2d07d75bd0395fd419477395305b34d4cd23b5d3e7ad5896d73b7fdfe49594d2?response-content-disposition=attachment%3B+filename*%3DUTF-8%27%27mm_sd15_v3_sparsectrl_rgb.safetensors%3B+filename%3D%22mm_sd15_v3_sparsectrl_rgb.safetensors%22%3B&Expires=1704984413&Policy=eyJTdGF0ZW1lbnQiOlt7IkNvbmRpdGlvbiI6eyJEYXRlTGVzc1RoYW4iOnsiQVdTOkVwb2NoVGltZSI6MTcwNDk4NDQxM319LCJSZXNvdXJjZSI6Imh0dHBzOi8vY2RuLWxmcy11cy0xLmh1Z2dpbmdmYWNlLmNvL3JlcG9zL2ViLzM2L2ViMzY4MmY0N2VmNGQ4Y2EyOWE3MDZiNGRhYzRkNDI1NjFhMDY3MGExN2Y4MDNmZWJmOWZlYjA2ZWQ2Mjg2ZWEvMmQwN2Q3NWJkMDM5NWZkNDE5NDc3Mzk1MzA1YjM0ZDRjZDIzYjVkM2U3YWQ1ODk2ZDczYjdmZGZlNDk1OTRkMj9yZXNwb25zZS1jb250ZW50LWRpc3Bvc2l0aW9uPSoifV19&Signature=FQ8cUVqWrVGugeCj8gTiNpi6c%7EEgGGBYR2%7Euw5y7-wWhBsHA86uxTX-ZbjOXoS1Ra6mqdBNKzotw5RHL0UW7JrhRq9E%7EhYXJAIpxxvm%7EOmp2ElSZF009XWODgtqZz-yGXtHKC%7ErL7vZeiRWHfMtvwZSqHZYRswUPTFLiJx%7Eb4PclIx%7EgL40ZxljoPJ4C--Zaddbr2FhhzzoS9hUAnFKejVqs-0FUzoQdBVK6eD9q1uN4Cvkuavi1hq4dOb9oLumyFJL4qg-YtqR5qClYnVqmxMaHRXZxfP9xYIJtcRFup6uOonHJR8KyaEUTbF9csxGGhXV7APUeQdnsgFoL%7EvTB3Q__&Key-Pair-Id=KCD77M1F0VK2B\n",
      "\n",
      "01/08 22:46:53 [\u001b[1;32mNOTICE\u001b[0m] CUID#15 - Redirecting to https://cdn-lfs-us-1.huggingface.co/repos/eb/36/eb3682f47ef4d8ca29a706b4dac4d42561a0670a17f803febf9feb06ed6286ea/2d07d75bd0395fd419477395305b34d4cd23b5d3e7ad5896d73b7fdfe49594d2?response-content-disposition=attachment%3B+filename*%3DUTF-8%27%27mm_sd15_v3_sparsectrl_rgb.safetensors%3B+filename%3D%22mm_sd15_v3_sparsectrl_rgb.safetensors%22%3B&Expires=1704984413&Policy=eyJTdGF0ZW1lbnQiOlt7IkNvbmRpdGlvbiI6eyJEYXRlTGVzc1RoYW4iOnsiQVdTOkVwb2NoVGltZSI6MTcwNDk4NDQxM319LCJSZXNvdXJjZSI6Imh0dHBzOi8vY2RuLWxmcy11cy0xLmh1Z2dpbmdmYWNlLmNvL3JlcG9zL2ViLzM2L2ViMzY4MmY0N2VmNGQ4Y2EyOWE3MDZiNGRhYzRkNDI1NjFhMDY3MGExN2Y4MDNmZWJmOWZlYjA2ZWQ2Mjg2ZWEvMmQwN2Q3NWJkMDM5NWZkNDE5NDc3Mzk1MzA1YjM0ZDRjZDIzYjVkM2U3YWQ1ODk2ZDczYjdmZGZlNDk1OTRkMj9yZXNwb25zZS1jb250ZW50LWRpc3Bvc2l0aW9uPSoifV19&Signature=FQ8cUVqWrVGugeCj8gTiNpi6c%7EEgGGBYR2%7Euw5y7-wWhBsHA86uxTX-ZbjOXoS1Ra6mqdBNKzotw5RHL0UW7JrhRq9E%7EhYXJAIpxxvm%7EOmp2ElSZF009XWODgtqZz-yGXtHKC%7ErL7vZeiRWHfMtvwZSqHZYRswUPTFLiJx%7Eb4PclIx%7EgL40ZxljoPJ4C--Zaddbr2FhhzzoS9hUAnFKejVqs-0FUzoQdBVK6eD9q1uN4Cvkuavi1hq4dOb9oLumyFJL4qg-YtqR5qClYnVqmxMaHRXZxfP9xYIJtcRFup6uOonHJR8KyaEUTbF9csxGGhXV7APUeQdnsgFoL%7EvTB3Q__&Key-Pair-Id=KCD77M1F0VK2B\n",
      "\u001b[35m[\u001b[0m#19ed1d 0.9GiB/0.9GiB\u001b[36m(98%)\u001b[0m CN:1 DL:\u001b[32m1.3MiB\u001b[0m ETA:\u001b[33m13s\u001b[0m\u001b[35m]\u001b[0m\u001b[0m\n",
      "01/08 22:47:23 [\u001b[1;32mNOTICE\u001b[0m] Download complete: /root/autodl-tmp/ancontrol/mm_sd15_v3_sparsectrl_rgb.safetensors\n",
      "\n",
      "Download Results:\n",
      "gid   |stat|avg speed  |path/URI\n",
      "======+====+===========+=======================================================\n",
      "19ed1d|\u001b[1;32mOK\u001b[0m  |    30MiB/s|/root/autodl-tmp/ancontrol/mm_sd15_v3_sparsectrl_rgb.safetensors\n",
      "\n",
      "Status Legend:\n",
      "(OK):download completed.\n",
      "\n",
      "01/08 22:47:23 [\u001b[1;32mNOTICE\u001b[0m] Downloading 1 item(s)\n",
      "\n",
      "01/08 22:47:24 [\u001b[1;32mNOTICE\u001b[0m] CUID#7 - Redirecting to https://cdn-lfs-us-1.huggingface.co/repos/eb/36/eb3682f47ef4d8ca29a706b4dac4d42561a0670a17f803febf9feb06ed6286ea/8e6451a0f0d1430684e6b895ba13adf147946e553ad568038a4621dfaca1d52b?response-content-disposition=attachment%3B+filename*%3DUTF-8%27%27mm_sd15_v3_sparsectrl_scribble.safetensors%3B+filename%3D%22mm_sd15_v3_sparsectrl_scribble.safetensors%22%3B&Expires=1704984444&Policy=eyJTdGF0ZW1lbnQiOlt7IkNvbmRpdGlvbiI6eyJEYXRlTGVzc1RoYW4iOnsiQVdTOkVwb2NoVGltZSI6MTcwNDk4NDQ0NH19LCJSZXNvdXJjZSI6Imh0dHBzOi8vY2RuLWxmcy11cy0xLmh1Z2dpbmdmYWNlLmNvL3JlcG9zL2ViLzM2L2ViMzY4MmY0N2VmNGQ4Y2EyOWE3MDZiNGRhYzRkNDI1NjFhMDY3MGExN2Y4MDNmZWJmOWZlYjA2ZWQ2Mjg2ZWEvOGU2NDUxYTBmMGQxNDMwNjg0ZTZiODk1YmExM2FkZjE0Nzk0NmU1NTNhZDU2ODAzOGE0NjIxZGZhY2ExZDUyYj9yZXNwb25zZS1jb250ZW50LWRpc3Bvc2l0aW9uPSoifV19&Signature=F%7EBTZZWG2E3xsq-MdYnMtQmQDPIZlHFV7qn3rxxi1t89z207cFzdGE4MADj3cJsxi3-VUnmGiadFBc5qdD4WsTZYCOL-aXGEdG%7E7JhtRksTHgVtnv1LWTAQxGwerZDhfoI78ez1sQAmAfM7wcgF5ZWOYP7lLMsEyVR3-UYPbtRD6%7E2475tVD1tceFz0TcgFQmjyuxjE4s7prMI0TMNJKF68wT6Ll%7E4iDtcSvYeaOAdadqwSuO2XDv8Brv-vjWIx9rCL9gpT2vhvvbbrkZDbFUehiZNu3XE29pOHKgKHjfuOdLVb8sd7wF6gXJ26DDa9b5PvY23j%7E9zae35zR7-V9vg__&Key-Pair-Id=KCD77M1F0VK2B\n",
      "\u001b[35m[\u001b[0m#5c29aa 0B/0B CN:1 DL:\u001b[32m0B\u001b[0m\u001b[35m]\u001b[0m\u001b[0m                      \n",
      "01/08 22:47:25 [\u001b[1;32mNOTICE\u001b[0m] CUID#9 - Redirecting to https://cdn-lfs-us-1.huggingface.co/repos/eb/36/eb3682f47ef4d8ca29a706b4dac4d42561a0670a17f803febf9feb06ed6286ea/8e6451a0f0d1430684e6b895ba13adf147946e553ad568038a4621dfaca1d52b?response-content-disposition=attachment%3B+filename*%3DUTF-8%27%27mm_sd15_v3_sparsectrl_scribble.safetensors%3B+filename%3D%22mm_sd15_v3_sparsectrl_scribble.safetensors%22%3B&Expires=1704984445&Policy=eyJTdGF0ZW1lbnQiOlt7IkNvbmRpdGlvbiI6eyJEYXRlTGVzc1RoYW4iOnsiQVdTOkVwb2NoVGltZSI6MTcwNDk4NDQ0NX19LCJSZXNvdXJjZSI6Imh0dHBzOi8vY2RuLWxmcy11cy0xLmh1Z2dpbmdmYWNlLmNvL3JlcG9zL2ViLzM2L2ViMzY4MmY0N2VmNGQ4Y2EyOWE3MDZiNGRhYzRkNDI1NjFhMDY3MGExN2Y4MDNmZWJmOWZlYjA2ZWQ2Mjg2ZWEvOGU2NDUxYTBmMGQxNDMwNjg0ZTZiODk1YmExM2FkZjE0Nzk0NmU1NTNhZDU2ODAzOGE0NjIxZGZhY2ExZDUyYj9yZXNwb25zZS1jb250ZW50LWRpc3Bvc2l0aW9uPSoifV19&Signature=CDjDvjjYl3srEZeXOhV6SfK3kGYzB%7ELHwq98sb7TGGGqGpXAhr8Y%7ESmpURZIGFILYKAEO5xurKDmnv71N-2kckj1FyUgb0RxU6fxd6C-GPRdBzLaV2Ljwy-3Gb-ylQbB43S8sksYe4%7E889oTYTf2t9FyiJa-9ZB2Vi-HQc00E8iVOZOqgXBIhmMjYw8m0jHYHz-GQK7uNU9Y3De4wfD8ESnb6sS8Ih4VojWYMFBdTCrnGruk5lZODIrW8TO7nLCbo4fxvVY8OPOuTkAx2vG2ZKh-knZ5RqX80qtm3TjMnJNT3nUUE71lg2CXCxzgvJfLjjNXR0A3vBQ6UAw-kTxOmQ__&Key-Pair-Id=KCD77M1F0VK2B\n",
      "\n",
      "01/08 22:47:25 [\u001b[1;32mNOTICE\u001b[0m] CUID#14 - Redirecting to https://cdn-lfs-us-1.huggingface.co/repos/eb/36/eb3682f47ef4d8ca29a706b4dac4d42561a0670a17f803febf9feb06ed6286ea/8e6451a0f0d1430684e6b895ba13adf147946e553ad568038a4621dfaca1d52b?response-content-disposition=attachment%3B+filename*%3DUTF-8%27%27mm_sd15_v3_sparsectrl_scribble.safetensors%3B+filename%3D%22mm_sd15_v3_sparsectrl_scribble.safetensors%22%3B&Expires=1704984445&Policy=eyJTdGF0ZW1lbnQiOlt7IkNvbmRpdGlvbiI6eyJEYXRlTGVzc1RoYW4iOnsiQVdTOkVwb2NoVGltZSI6MTcwNDk4NDQ0NX19LCJSZXNvdXJjZSI6Imh0dHBzOi8vY2RuLWxmcy11cy0xLmh1Z2dpbmdmYWNlLmNvL3JlcG9zL2ViLzM2L2ViMzY4MmY0N2VmNGQ4Y2EyOWE3MDZiNGRhYzRkNDI1NjFhMDY3MGExN2Y4MDNmZWJmOWZlYjA2ZWQ2Mjg2ZWEvOGU2NDUxYTBmMGQxNDMwNjg0ZTZiODk1YmExM2FkZjE0Nzk0NmU1NTNhZDU2ODAzOGE0NjIxZGZhY2ExZDUyYj9yZXNwb25zZS1jb250ZW50LWRpc3Bvc2l0aW9uPSoifV19&Signature=CDjDvjjYl3srEZeXOhV6SfK3kGYzB%7ELHwq98sb7TGGGqGpXAhr8Y%7ESmpURZIGFILYKAEO5xurKDmnv71N-2kckj1FyUgb0RxU6fxd6C-GPRdBzLaV2Ljwy-3Gb-ylQbB43S8sksYe4%7E889oTYTf2t9FyiJa-9ZB2Vi-HQc00E8iVOZOqgXBIhmMjYw8m0jHYHz-GQK7uNU9Y3De4wfD8ESnb6sS8Ih4VojWYMFBdTCrnGruk5lZODIrW8TO7nLCbo4fxvVY8OPOuTkAx2vG2ZKh-knZ5RqX80qtm3TjMnJNT3nUUE71lg2CXCxzgvJfLjjNXR0A3vBQ6UAw-kTxOmQ__&Key-Pair-Id=KCD77M1F0VK2B\n",
      "\n",
      "01/08 22:47:25 [\u001b[1;32mNOTICE\u001b[0m] CUID#12 - Redirecting to https://cdn-lfs-us-1.huggingface.co/repos/eb/36/eb3682f47ef4d8ca29a706b4dac4d42561a0670a17f803febf9feb06ed6286ea/8e6451a0f0d1430684e6b895ba13adf147946e553ad568038a4621dfaca1d52b?response-content-disposition=attachment%3B+filename*%3DUTF-8%27%27mm_sd15_v3_sparsectrl_scribble.safetensors%3B+filename%3D%22mm_sd15_v3_sparsectrl_scribble.safetensors%22%3B&Expires=1704984445&Policy=eyJTdGF0ZW1lbnQiOlt7IkNvbmRpdGlvbiI6eyJEYXRlTGVzc1RoYW4iOnsiQVdTOkVwb2NoVGltZSI6MTcwNDk4NDQ0NX19LCJSZXNvdXJjZSI6Imh0dHBzOi8vY2RuLWxmcy11cy0xLmh1Z2dpbmdmYWNlLmNvL3JlcG9zL2ViLzM2L2ViMzY4MmY0N2VmNGQ4Y2EyOWE3MDZiNGRhYzRkNDI1NjFhMDY3MGExN2Y4MDNmZWJmOWZlYjA2ZWQ2Mjg2ZWEvOGU2NDUxYTBmMGQxNDMwNjg0ZTZiODk1YmExM2FkZjE0Nzk0NmU1NTNhZDU2ODAzOGE0NjIxZGZhY2ExZDUyYj9yZXNwb25zZS1jb250ZW50LWRpc3Bvc2l0aW9uPSoifV19&Signature=CDjDvjjYl3srEZeXOhV6SfK3kGYzB%7ELHwq98sb7TGGGqGpXAhr8Y%7ESmpURZIGFILYKAEO5xurKDmnv71N-2kckj1FyUgb0RxU6fxd6C-GPRdBzLaV2Ljwy-3Gb-ylQbB43S8sksYe4%7E889oTYTf2t9FyiJa-9ZB2Vi-HQc00E8iVOZOqgXBIhmMjYw8m0jHYHz-GQK7uNU9Y3De4wfD8ESnb6sS8Ih4VojWYMFBdTCrnGruk5lZODIrW8TO7nLCbo4fxvVY8OPOuTkAx2vG2ZKh-knZ5RqX80qtm3TjMnJNT3nUUE71lg2CXCxzgvJfLjjNXR0A3vBQ6UAw-kTxOmQ__&Key-Pair-Id=KCD77M1F0VK2B\n",
      "\u001b[35m[\u001b[0m#5c29aa 18MiB/0.9GiB\u001b[36m(1%)\u001b[0m CN:8 DL:\u001b[32m24MiB\u001b[0m ETA:\u001b[33m38s\u001b[0m\u001b[35m]\u001b[0m\u001b[0m\n",
      "01/08 22:47:25 [\u001b[1;32mNOTICE\u001b[0m] CUID#13 - Redirecting to https://cdn-lfs-us-1.huggingface.co/repos/eb/36/eb3682f47ef4d8ca29a706b4dac4d42561a0670a17f803febf9feb06ed6286ea/8e6451a0f0d1430684e6b895ba13adf147946e553ad568038a4621dfaca1d52b?response-content-disposition=attachment%3B+filename*%3DUTF-8%27%27mm_sd15_v3_sparsectrl_scribble.safetensors%3B+filename%3D%22mm_sd15_v3_sparsectrl_scribble.safetensors%22%3B&Expires=1704984445&Policy=eyJTdGF0ZW1lbnQiOlt7IkNvbmRpdGlvbiI6eyJEYXRlTGVzc1RoYW4iOnsiQVdTOkVwb2NoVGltZSI6MTcwNDk4NDQ0NX19LCJSZXNvdXJjZSI6Imh0dHBzOi8vY2RuLWxmcy11cy0xLmh1Z2dpbmdmYWNlLmNvL3JlcG9zL2ViLzM2L2ViMzY4MmY0N2VmNGQ4Y2EyOWE3MDZiNGRhYzRkNDI1NjFhMDY3MGExN2Y4MDNmZWJmOWZlYjA2ZWQ2Mjg2ZWEvOGU2NDUxYTBmMGQxNDMwNjg0ZTZiODk1YmExM2FkZjE0Nzk0NmU1NTNhZDU2ODAzOGE0NjIxZGZhY2ExZDUyYj9yZXNwb25zZS1jb250ZW50LWRpc3Bvc2l0aW9uPSoifV19&Signature=CDjDvjjYl3srEZeXOhV6SfK3kGYzB%7ELHwq98sb7TGGGqGpXAhr8Y%7ESmpURZIGFILYKAEO5xurKDmnv71N-2kckj1FyUgb0RxU6fxd6C-GPRdBzLaV2Ljwy-3Gb-ylQbB43S8sksYe4%7E889oTYTf2t9FyiJa-9ZB2Vi-HQc00E8iVOZOqgXBIhmMjYw8m0jHYHz-GQK7uNU9Y3De4wfD8ESnb6sS8Ih4VojWYMFBdTCrnGruk5lZODIrW8TO7nLCbo4fxvVY8OPOuTkAx2vG2ZKh-knZ5RqX80qtm3TjMnJNT3nUUE71lg2CXCxzgvJfLjjNXR0A3vBQ6UAw-kTxOmQ__&Key-Pair-Id=KCD77M1F0VK2B\n",
      "\n",
      "01/08 22:47:26 [\u001b[1;32mNOTICE\u001b[0m] CUID#11 - Redirecting to https://cdn-lfs-us-1.huggingface.co/repos/eb/36/eb3682f47ef4d8ca29a706b4dac4d42561a0670a17f803febf9feb06ed6286ea/8e6451a0f0d1430684e6b895ba13adf147946e553ad568038a4621dfaca1d52b?response-content-disposition=attachment%3B+filename*%3DUTF-8%27%27mm_sd15_v3_sparsectrl_scribble.safetensors%3B+filename%3D%22mm_sd15_v3_sparsectrl_scribble.safetensors%22%3B&Expires=1704984444&Policy=eyJTdGF0ZW1lbnQiOlt7IkNvbmRpdGlvbiI6eyJEYXRlTGVzc1RoYW4iOnsiQVdTOkVwb2NoVGltZSI6MTcwNDk4NDQ0NH19LCJSZXNvdXJjZSI6Imh0dHBzOi8vY2RuLWxmcy11cy0xLmh1Z2dpbmdmYWNlLmNvL3JlcG9zL2ViLzM2L2ViMzY4MmY0N2VmNGQ4Y2EyOWE3MDZiNGRhYzRkNDI1NjFhMDY3MGExN2Y4MDNmZWJmOWZlYjA2ZWQ2Mjg2ZWEvOGU2NDUxYTBmMGQxNDMwNjg0ZTZiODk1YmExM2FkZjE0Nzk0NmU1NTNhZDU2ODAzOGE0NjIxZGZhY2ExZDUyYj9yZXNwb25zZS1jb250ZW50LWRpc3Bvc2l0aW9uPSoifV19&Signature=F%7EBTZZWG2E3xsq-MdYnMtQmQDPIZlHFV7qn3rxxi1t89z207cFzdGE4MADj3cJsxi3-VUnmGiadFBc5qdD4WsTZYCOL-aXGEdG%7E7JhtRksTHgVtnv1LWTAQxGwerZDhfoI78ez1sQAmAfM7wcgF5ZWOYP7lLMsEyVR3-UYPbtRD6%7E2475tVD1tceFz0TcgFQmjyuxjE4s7prMI0TMNJKF68wT6Ll%7E4iDtcSvYeaOAdadqwSuO2XDv8Brv-vjWIx9rCL9gpT2vhvvbbrkZDbFUehiZNu3XE29pOHKgKHjfuOdLVb8sd7wF6gXJ26DDa9b5PvY23j%7E9zae35zR7-V9vg__&Key-Pair-Id=KCD77M1F0VK2B\n",
      "\n",
      "01/08 22:47:26 [\u001b[1;32mNOTICE\u001b[0m] CUID#10 - Redirecting to https://cdn-lfs-us-1.huggingface.co/repos/eb/36/eb3682f47ef4d8ca29a706b4dac4d42561a0670a17f803febf9feb06ed6286ea/8e6451a0f0d1430684e6b895ba13adf147946e553ad568038a4621dfaca1d52b?response-content-disposition=attachment%3B+filename*%3DUTF-8%27%27mm_sd15_v3_sparsectrl_scribble.safetensors%3B+filename%3D%22mm_sd15_v3_sparsectrl_scribble.safetensors%22%3B&Expires=1704984445&Policy=eyJTdGF0ZW1lbnQiOlt7IkNvbmRpdGlvbiI6eyJEYXRlTGVzc1RoYW4iOnsiQVdTOkVwb2NoVGltZSI6MTcwNDk4NDQ0NX19LCJSZXNvdXJjZSI6Imh0dHBzOi8vY2RuLWxmcy11cy0xLmh1Z2dpbmdmYWNlLmNvL3JlcG9zL2ViLzM2L2ViMzY4MmY0N2VmNGQ4Y2EyOWE3MDZiNGRhYzRkNDI1NjFhMDY3MGExN2Y4MDNmZWJmOWZlYjA2ZWQ2Mjg2ZWEvOGU2NDUxYTBmMGQxNDMwNjg0ZTZiODk1YmExM2FkZjE0Nzk0NmU1NTNhZDU2ODAzOGE0NjIxZGZhY2ExZDUyYj9yZXNwb25zZS1jb250ZW50LWRpc3Bvc2l0aW9uPSoifV19&Signature=CDjDvjjYl3srEZeXOhV6SfK3kGYzB%7ELHwq98sb7TGGGqGpXAhr8Y%7ESmpURZIGFILYKAEO5xurKDmnv71N-2kckj1FyUgb0RxU6fxd6C-GPRdBzLaV2Ljwy-3Gb-ylQbB43S8sksYe4%7E889oTYTf2t9FyiJa-9ZB2Vi-HQc00E8iVOZOqgXBIhmMjYw8m0jHYHz-GQK7uNU9Y3De4wfD8ESnb6sS8Ih4VojWYMFBdTCrnGruk5lZODIrW8TO7nLCbo4fxvVY8OPOuTkAx2vG2ZKh-knZ5RqX80qtm3TjMnJNT3nUUE71lg2CXCxzgvJfLjjNXR0A3vBQ6UAw-kTxOmQ__&Key-Pair-Id=KCD77M1F0VK2B\n",
      "\n",
      "01/08 22:47:26 [\u001b[1;32mNOTICE\u001b[0m] CUID#15 - Redirecting to https://cdn-lfs-us-1.huggingface.co/repos/eb/36/eb3682f47ef4d8ca29a706b4dac4d42561a0670a17f803febf9feb06ed6286ea/8e6451a0f0d1430684e6b895ba13adf147946e553ad568038a4621dfaca1d52b?response-content-disposition=attachment%3B+filename*%3DUTF-8%27%27mm_sd15_v3_sparsectrl_scribble.safetensors%3B+filename%3D%22mm_sd15_v3_sparsectrl_scribble.safetensors%22%3B&Expires=1704984446&Policy=eyJTdGF0ZW1lbnQiOlt7IkNvbmRpdGlvbiI6eyJEYXRlTGVzc1RoYW4iOnsiQVdTOkVwb2NoVGltZSI6MTcwNDk4NDQ0Nn19LCJSZXNvdXJjZSI6Imh0dHBzOi8vY2RuLWxmcy11cy0xLmh1Z2dpbmdmYWNlLmNvL3JlcG9zL2ViLzM2L2ViMzY4MmY0N2VmNGQ4Y2EyOWE3MDZiNGRhYzRkNDI1NjFhMDY3MGExN2Y4MDNmZWJmOWZlYjA2ZWQ2Mjg2ZWEvOGU2NDUxYTBmMGQxNDMwNjg0ZTZiODk1YmExM2FkZjE0Nzk0NmU1NTNhZDU2ODAzOGE0NjIxZGZhY2ExZDUyYj9yZXNwb25zZS1jb250ZW50LWRpc3Bvc2l0aW9uPSoifV19&Signature=e6lmN83tlfn9ZVMuNwAsmKZhXt4SUU87s1D%7EQGwhpoFT9qwKh7jiiqEcBMmnPOYYt3NslvR8mIBvj1y29-4nTtWTNK6mLCwmRTfW9k2He0vUB-2NAyXjsIHyEXOwd4fVYcqa9iY9vq2IxCBhkCc9aHDJpPsTgh5fZ8kti3FcqJz4rSJJ3PPnna90JUyTkilQHSzuXqGCGI0sa8qFkYXESnG61%7EMGtSwtEjZUvq0xy6SuPJwIHxJaZzZmR37QqCJDmRseTl7pYCCUVqi5mWT8zfQOUOO6GxAL7xpa4Ym-6bx8FOVlWzTlvHoEEPNVqSnkBt%7Eug7u-rhuZu-IOXdwk-Q__&Key-Pair-Id=KCD77M1F0VK2B\n",
      "\u001b[35m[\u001b[0m#5c29aa 0.9GiB/0.9GiB\u001b[36m(99%)\u001b[0m CN:1 DL:\u001b[32m21MiB\u001b[0m\u001b[35m]\u001b[0m\u001b[0m0m\u001b[35m]\u001b[0m\u001b[0mm\n",
      "01/08 22:47:46 [\u001b[1;32mNOTICE\u001b[0m] Download complete: /root/autodl-tmp/ancontrol/mm_sd15_v3_sparsectrl_scribble.safetensors\n",
      "\n",
      "Download Results:\n",
      "gid   |stat|avg speed  |path/URI\n",
      "======+====+===========+=======================================================\n",
      "5c29aa|\u001b[1;32mOK\u001b[0m  |    44MiB/s|/root/autodl-tmp/ancontrol/mm_sd15_v3_sparsectrl_scribble.safetensors\n",
      "\n",
      "Status Legend:\n",
      "(OK):download completed.\n"
     ]
    }
   ],
   "source": [
    "import requests\n",
    "from bs4 import BeautifulSoup\n",
    "import subprocess\n",
    "\n",
    "def cmd_run(com):\n",
    "    !{com}\n",
    "\n",
    "def get_model_names_and_urls(base_url=\"https://huggingface.co/lllyasviel/sd_control_collection/tree/main\"):\n",
    "    try:\n",
    "        response = requests.get(base_url)\n",
    "        if response.status_code != 200:\n",
    "            return \"Failed to retrieve data. Status code: \" + str(response.status_code)\n",
    "\n",
    "        soup = BeautifulSoup(response.content, 'html.parser')\n",
    "\n",
    "        # 根据新的 HTML 结构更新选择器\n",
    "        links = soup.find_all('a', {'class': 'group'})\n",
    "\n",
    "        models = []\n",
    "        for link in links:\n",
    "            href = link.get('href')\n",
    "            if href and '/resolve/main/' in href:\n",
    "                model_name = href.split('/')[-1].split('?')[0]  # 提取文件名\n",
    "                download_url = \"https://huggingface.co\" + href  # 构造完整的下载链接\n",
    "                models.append((model_name, download_url))\n",
    "\n",
    "        return models\n",
    "    except Exception as e:\n",
    "        return str(e)\n",
    "    \n",
    "def download_files_with_aria2c(models, download_directory=\"/root/autodl-tmp/upmod\"):\n",
    "    \"\"\"\n",
    "    Download files using aria2c.\n",
    "\n",
    "    Args:\n",
    "    models (list of tuples): List of model name and download URL tuples.\n",
    "    download_directory (str): Path to the directory where files will be downloaded.\n",
    "    \"\"\"\n",
    "    for model_name, url in models:\n",
    "        # 构建完整的下载命令\n",
    "        command = f'aria2c -s 16 -x 8 --seed-time=0 \"{url}\" -d \"{download_directory}\" -o \"{model_name}\"'\n",
    "        cmd_run(command)\n",
    "\n",
    "# Example usage\n",
    "models = get_model_names_and_urls(base_url=\"https://huggingface.co/conrevo/AnimateDiff-A1111/tree/main/control\")\n",
    "# for model_name, url in models:\n",
    "#     print(f\"Model: {model_name}, URL: {url}\")\n",
    "\n",
    "download_files_with_aria2c(models, '/root/autodl-tmp/ancontrol')"
   ]
  },
  {
   "cell_type": "code",
   "execution_count": null,
   "id": "ebd20db9-c1a7-45e1-ac03-7e02abdc8363",
   "metadata": {},
   "outputs": [],
   "source": []
  }
 ],
 "metadata": {
  "kernelspec": {
   "display_name": "Python 3 (ipykernel)",
   "language": "python",
   "name": "python3"
  },
  "language_info": {
   "codemirror_mode": {
    "name": "ipython",
    "version": 3
   },
   "file_extension": ".py",
   "mimetype": "text/x-python",
   "name": "python",
   "nbconvert_exporter": "python",
   "pygments_lexer": "ipython3",
   "version": "3.8.10"
  }
 },
 "nbformat": 4,
 "nbformat_minor": 5
}
