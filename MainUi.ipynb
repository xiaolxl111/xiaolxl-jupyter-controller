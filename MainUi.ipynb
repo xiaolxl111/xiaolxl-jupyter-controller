{
 "cells": [
  {
   "cell_type": "markdown",
   "id": "46632cc5",
   "metadata": {},
   "source": [
    "### <font color='#ff0000'>运行下方代码块, 打开启动器</font>"
   ]
  },
  {
   "cell_type": "code",
   "execution_count": null,
   "id": "7062bb40-2063-400d-b4b0-b11efb768551",
   "metadata": {},
   "outputs": [],
   "source": [
    "import Main\n",
    "\n",
    "def cmd_run(command):\n",
    "    !{command}\n",
    "\n",
    "Main.show(cmd_run)"
   ]
  }
 ],
 "metadata": {
  "kernelspec": {
   "display_name": "Python 3 (ipykernel)",
   "language": "python",
   "name": "python3"
  }
 },
 "nbformat": 4,
 "nbformat_minor": 5
}
