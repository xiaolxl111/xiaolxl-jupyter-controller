{
 "cells": [
  {
   "cell_type": "code",
   "execution_count": null,
   "id": "7062bb40-2063-400d-b4b0-b11efb768551",
   "metadata": {},
   "outputs": [],
   "source": [
    "import sys,os\n",
    "\n",
    "sys.path.append('./scripts')\n",
    "sys.path.append('./tools')\n",
    "\n",
    "import MainUi\n",
    "\n",
    "data = {\n",
    "    \"debug\":False,\n",
    "    \"config_file\":\"../ui.json\",\n",
    "    \"jsonFetcherTimeout\":5,\n",
    "    \"jsonFetcherNetwork\":True\n",
    "}\n",
    "\n",
    "def cmd_run(command):\n",
    "    !{command}\n",
    "\n",
    "MainUi.show(data,cmd_run)"
   ]
  }
 ],
 "metadata": {
  "kernelspec": {
   "display_name": "Python 3 (ipykernel)",
   "language": "python",
   "name": "python3"
  }
 },
 "nbformat": 4,
 "nbformat_minor": 5
}
